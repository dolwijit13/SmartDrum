{
 "cells": [
  {
   "cell_type": "code",
   "execution_count": null,
   "metadata": {
    "scrolled": true
   },
   "outputs": [
    {
     "name": "stdout",
     "output_type": "stream",
     "text": [
      " * Serving Flask app \"__main__\" (lazy loading)\n",
      " * Environment: production\n",
      "   WARNING: Do not use the development server in a production environment.\n",
      "   Use a production WSGI server instead.\n",
      " * Debug mode: off\n"
     ]
    },
    {
     "name": "stderr",
     "output_type": "stream",
     "text": [
      " * Running on http://0.0.0.0:5000/ (Press CTRL+C to quit)\n",
      "127.0.0.1 - - [27/Nov/2018 18:39:22] \"GET /?key=100 HTTP/1.1\" 200 -\n"
     ]
    },
    {
     "name": "stdout",
     "output_type": "stream",
     "text": [
      "abc\n"
     ]
    }
   ],
   "source": [
    "\"\"\"\n",
    "Credits go to: https://github.com/Zulko/pianoputer\n",
    "\"\"\"\n",
    "\n",
    "from scipy.io import wavfile\n",
    "import numpy as np\n",
    "import winsound\n",
    "from flask import Flask, request\n",
    "\n",
    "# Preprocess the keys and notes\n",
    "app = Flask(__name__)\n",
    "\n",
    "import pygame.mixer\n",
    "\n",
    "tomL0 = pygame.mixer.Sound('sound/tom1_studio.ogg') \n",
    "tomL1 = pygame.mixer.Sound('sound/tom1_heavy.ogg') \n",
    "tomL2 = pygame.mixer.Sound('sound/tom1_reverb.ogg') \n",
    "\n",
    "tomR0 = pygame.mixer.Sound('sound/tom3_studio.ogg') \n",
    "tomR1 = pygame.mixer.Sound('sound/tom3_heavy.ogg') \n",
    "tomR2 = pygame.mixer.Sound('sound/tom3_reverb.ogg') \n",
    "\n",
    "crashL0 = pygame.mixer.Sound('sound/crashl_studio.ogg')\n",
    "crashL1 = pygame.mixer.Sound('sound/crashl_rock.ogg')\n",
    "crashL2 = pygame.mixer.Sound('sound/crashl_jazz.ogg')\n",
    "\n",
    "crashR0 = pygame.mixer.Sound('sound/crashr_china.ogg')\n",
    "crashR1 = pygame.mixer.Sound('sound/crashr_studio.ogg')\n",
    "crashR2 = pygame.mixer.Sound('sound/crashr_rock.ogg')\n",
    "\n",
    "kick0 = pygame.mixer.Sound('sound/kick_studio.ogg')\n",
    "kick1 = pygame.mixer.Sound('sound/kick_heavy.ogg')\n",
    "kick2 = pygame.mixer.Sound('sound/kick_reverb.ogg')\n",
    "\n",
    "\n",
    "@app.route(\"/\")\n",
    "def play():\n",
    "    \"\"\"\n",
    "    index route, playing the note.\n",
    "\n",
    "    accepts: /?key={key}\n",
    "\n",
    "    e.g. /?key=10 to play note number 10\n",
    "    \"\"\"\n",
    "    k = int(request.args.get('key'))\n",
    "    if(k//100 == 0):\n",
    "        if(k%10 == 0):\n",
    "            crashL0.play(fade_ms=50)\n",
    "        elif(k%10 == 1):\n",
    "            crashL1.play(fade_ms=50)\n",
    "        elif(k%10 == 2):\n",
    "            crashL2.play(fade_ms=50)\n",
    "    elif(k//100 == 1):\n",
    "        if(k%10 == 0):\n",
    "            tomL0.play(fade_ms=50)\n",
    "        elif(k%10 == 1):\n",
    "            tomL1.play(fade_ms=50)\n",
    "        elif(k%10 == 2):\n",
    "            tomL2.play(fade_ms=50)\n",
    "    elif(k//100 ==2 or k//100 == 3):\n",
    "        if(k%10 == 0):\n",
    "            kick0.play(fade_ms=50)\n",
    "        elif(k%10 == 1):\n",
    "            kick1.play(fade_ms=50)\n",
    "        elif(k%10 == 2):\n",
    "            kick2.play(fade_ms=50)\n",
    "    elif(k//100 == 5):\n",
    "        if(k%10 == 0):\n",
    "            crashR0.play(fade_ms=50)\n",
    "        elif(k%10 == 1):\n",
    "            crashR1.play(fade_ms=50)\n",
    "        elif(k%10 == 2):\n",
    "            crashR2.play(fade_ms=50)\n",
    "    elif(k//100 == 4):\n",
    "        if(k%10 == 0):\n",
    "            tomR0.play(fade_ms=50)\n",
    "        elif(k%10 == 1):\n",
    "            tomR1.play(fade_ms=50)\n",
    "        elif(k%10 == 2):\n",
    "            tomR2.play(fade_ms=50)\n",
    "    return 'Playing key {}'.format(k)\n",
    "\n",
    "\n",
    "# start the server at the port 5000\n",
    "app.run(host = '0.0.0.0')\n"
   ]
  },
  {
   "cell_type": "code",
   "execution_count": 2,
   "metadata": {},
   "outputs": [
    {
     "name": "stdout",
     "output_type": "stream",
     "text": [
      "0\n"
     ]
    }
   ],
   "source": [
    "#!usr/bin/python\n",
    "\n",
    "import pygame.mixer\n",
    "\n",
    "pygame.mixer.pre_init(44100, 16, 2, 4096)\n",
    "pygame.mixer.init()\n",
    "\n",
    "channel1 = pygame.mixer.Sound('sound/tom3_heavy.ogg') \n",
    "channel2 = pygame.mixer.Sound('bowl.wav') \n",
    "\n",
    "n = int(input().strip())\n",
    "if(n==0):\n",
    "    channel1.play(fade_ms=50)\n",
    "else:\n",
    "    channel2.play(fade_ms=50)"
   ]
  },
  {
   "cell_type": "code",
   "execution_count": 94,
   "metadata": {},
   "outputs": [
    {
     "data": {
      "text/plain": [
       "<Channel at 0x1a07b440c30>"
      ]
     },
     "execution_count": 94,
     "metadata": {},
     "output_type": "execute_result"
    }
   ],
   "source": [
    "import pygame\n",
    "fps, _ = wavfile.read('out.wav')\n",
    "pygame.init()\n",
    "pygame.mixer.init(fps, -16, 1, 2048)\n",
    "sounds = pygame.sndarray.make_sound(_.astype(numpy.int16))\n",
    "sounds.play()"
   ]
  },
  {
   "cell_type": "code",
   "execution_count": 61,
   "metadata": {
    "scrolled": true
   },
   "outputs": [
    {
     "data": {
      "text/plain": [
       "3"
      ]
     },
     "execution_count": 61,
     "metadata": {},
     "output_type": "execute_result"
    }
   ],
   "source": [
    "a=[1,2,3]\n",
    "len(a)"
   ]
  },
  {
   "cell_type": "code",
   "execution_count": 58,
   "metadata": {},
   "outputs": [
    {
     "data": {
      "text/plain": [
       "9"
      ]
     },
     "execution_count": 58,
     "metadata": {},
     "output_type": "execute_result"
    }
   ],
   "source": [
    "a = np.array([[ 5, 1 ,3], [ 1, 1 ,1], [ 1, 2 ,1]])\n",
    "a.size"
   ]
  }
 ],
 "metadata": {
  "kernelspec": {
   "display_name": "Python 3",
   "language": "python",
   "name": "python3"
  },
  "language_info": {
   "codemirror_mode": {
    "name": "ipython",
    "version": 3
   },
   "file_extension": ".py",
   "mimetype": "text/x-python",
   "name": "python",
   "nbconvert_exporter": "python",
   "pygments_lexer": "ipython3",
   "version": "3.7.0"
  }
 },
 "nbformat": 4,
 "nbformat_minor": 2
}
